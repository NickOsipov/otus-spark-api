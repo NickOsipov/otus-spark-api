{
 "cells": [
  {
   "cell_type": "markdown",
   "metadata": {},
   "source": [
    "# PySpark - Работа с Spark SQL\n",
    "\n",
    "## Введение в Spark SQL\n",
    "Spark SQL - это модуль для работы со структурированными данными в Apache Spark. Он предоставляет программный интерфейс для запросов к данным, используя SQL или DataFrame API. В этом ноутбуке мы рассмотрим основные концепции и операции Spark SQL в PySpark.\n",
    "\n",
    "## Содержание\n",
    "1. Инициализация Spark и создание SparkSession\n",
    "2. Создание и регистрация временных представлений\n",
    "3. Выполнение SQL-запросов\n",
    "4. Работа с таблицами и базами данных\n",
    "5. Преобразование между SQL и DataFrame API\n",
    "6. Работа с пользовательскими функциями в SQL\n",
    "7. Кэширование и оптимизация SQL-запросов\n",
    "8. Практические примеры\n"
   ]
  },
  {
   "cell_type": "markdown",
   "metadata": {},
   "source": [
    "## 1. Инициализация Spark и создание SparkSession\n"
   ]
  },
  {
   "cell_type": "code",
   "execution_count": 1,
   "metadata": {},
   "outputs": [],
   "source": [
    "import findspark\n",
    "findspark.init()"
   ]
  },
  {
   "cell_type": "code",
   "execution_count": 2,
   "metadata": {},
   "outputs": [],
   "source": [
    "\n",
    "# Импорт необходимых библиотек\n",
    "from pyspark.sql import SparkSession\n",
    "from pyspark.sql.functions import *\n",
    "from pyspark.sql.types import *\n",
    "import matplotlib.pyplot as plt\n",
    "import pandas as pd\n",
    "%matplotlib inline\n"
   ]
  },
  {
   "cell_type": "code",
   "execution_count": 3,
   "metadata": {},
   "outputs": [
    {
     "name": "stderr",
     "output_type": "stream",
     "text": [
      "25/06/10 22:11:26 WARN Utils: Your hostname, ono-workstation resolves to a loopback address: 127.0.1.1; using 192.168.100.118 instead (on interface wlp62s0)\n",
      "25/06/10 22:11:26 WARN Utils: Set SPARK_LOCAL_IP if you need to bind to another address\n",
      "Setting default log level to \"WARN\".\n",
      "To adjust logging level use sc.setLogLevel(newLevel). For SparkR, use setLogLevel(newLevel).\n",
      "25/06/10 22:11:27 WARN NativeCodeLoader: Unable to load native-hadoop library for your platform... using builtin-java classes where applicable\n"
     ]
    },
    {
     "name": "stdout",
     "output_type": "stream",
     "text": [
      "Spark Version: 3.5.5\n"
     ]
    }
   ],
   "source": [
    "# Создание SparkSession\n",
    "spark = (SparkSession\n",
    "    .builder\n",
    "    .appName(\"Spark SQL Practice\")\n",
    "    .config(\"spark.sql.legacy.createHiveTableByDefault\", \"false\")\n",
    "    .master(\"local[*]\")\n",
    "    .getOrCreate()\n",
    ")\n",
    "\n",
    "# Проверка версии Spark\n",
    "print(f\"Spark Version: {spark.version}\")\n"
   ]
  },
  {
   "cell_type": "markdown",
   "metadata": {},
   "source": [
    "\n",
    "## 2. Создание и регистрация временных представлений\n",
    "Для использования SQL-запросов в Spark необходимо создать и зарегистрировать временные представления данных.\n"
   ]
  },
  {
   "cell_type": "markdown",
   "metadata": {},
   "source": [
    "### Создание данных для примера"
   ]
  },
  {
   "cell_type": "code",
   "execution_count": 4,
   "metadata": {},
   "outputs": [],
   "source": [
    "# Создание файла с данными о сотрудниках\n",
    "employees_data = \"\"\"\n",
    "id,name,age,department,salary\n",
    "1,John,30,IT,65000\n",
    "2,Alice,25,HR,55000\n",
    "3,Bob,40,Finance,70000\n",
    "4,Carol,35,IT,68000\n",
    "5,David,45,Marketing,60000\n",
    "6,Eva,28,HR,52000\n",
    "7,Frank,50,Finance,75000\n",
    "8,Grace,33,Marketing,62000\n",
    "9,Henry,31,IT,67000\n",
    "10,Ivy,27,HR,54000\n",
    "\"\"\"\n",
    "\n",
    "with open(\"employees.csv\", \"w\") as f:\n",
    "    f.write(employees_data)\n",
    "\n",
    "# Создание файла с данными об отделах\n",
    "departments_data = \"\"\"\n",
    "dept_id,dept_name,location,budget\n",
    "IT,Information Technology,Building A,500000\n",
    "HR,Human Resources,Building B,300000\n",
    "Finance,Finance Department,Building A,450000\n",
    "Marketing,Marketing Department,Building C,400000\n",
    "Sales,Sales Department,Building C,350000\n",
    "\"\"\"\n",
    "\n",
    "with open(\"departments.csv\", \"w\") as f:\n",
    "    f.write(departments_data)\n"
   ]
  },
  {
   "cell_type": "code",
   "execution_count": 5,
   "metadata": {},
   "outputs": [],
   "source": [
    "# !hadoop fs -put -f employees.csv /user/ubuntu/employees.csv\n",
    "# !hadoop fs -put -f departments.csv /user/ubuntu/departments.csv"
   ]
  },
  {
   "cell_type": "markdown",
   "metadata": {},
   "source": [
    "### Чтение данных в DataFrame\n"
   ]
  },
  {
   "cell_type": "code",
   "execution_count": 6,
   "metadata": {},
   "outputs": [
    {
     "name": "stderr",
     "output_type": "stream",
     "text": [
      "                                                                                \r"
     ]
    },
    {
     "name": "stdout",
     "output_type": "stream",
     "text": [
      "+---+-----+---+----------+------+\n",
      "| id| name|age|department|salary|\n",
      "+---+-----+---+----------+------+\n",
      "|  1| John| 30|        IT| 65000|\n",
      "|  2|Alice| 25|        HR| 55000|\n",
      "|  3|  Bob| 40|   Finance| 70000|\n",
      "|  4|Carol| 35|        IT| 68000|\n",
      "|  5|David| 45| Marketing| 60000|\n",
      "|  6|  Eva| 28|        HR| 52000|\n",
      "|  7|Frank| 50|   Finance| 75000|\n",
      "|  8|Grace| 33| Marketing| 62000|\n",
      "|  9|Henry| 31|        IT| 67000|\n",
      "| 10|  Ivy| 27|        HR| 54000|\n",
      "+---+-----+---+----------+------+\n",
      "\n"
     ]
    }
   ],
   "source": [
    "# Чтение данных о сотрудниках\n",
    "employees_df = spark.read.csv(\"employees.csv\", header=True, inferSchema=True)\n",
    "employees_df.show()\n"
   ]
  },
  {
   "cell_type": "code",
   "execution_count": 7,
   "metadata": {},
   "outputs": [
    {
     "name": "stdout",
     "output_type": "stream",
     "text": [
      "+---------+--------------------+----------+------+\n",
      "|  dept_id|           dept_name|  location|budget|\n",
      "+---------+--------------------+----------+------+\n",
      "|       IT|Information Techn...|Building A|500000|\n",
      "|       HR|     Human Resources|Building B|300000|\n",
      "|  Finance|  Finance Department|Building A|450000|\n",
      "|Marketing|Marketing Department|Building C|400000|\n",
      "|    Sales|    Sales Department|Building C|350000|\n",
      "+---------+--------------------+----------+------+\n",
      "\n"
     ]
    }
   ],
   "source": [
    "# Чтение данных о отделах\n",
    "departments_df = spark.read.csv(\"departments.csv\", header=True, inferSchema=True)\n",
    "departments_df.show()\n"
   ]
  },
  {
   "cell_type": "markdown",
   "metadata": {},
   "source": [
    "### Регистрация временных представлений\n"
   ]
  },
  {
   "cell_type": "code",
   "execution_count": 8,
   "metadata": {},
   "outputs": [],
   "source": [
    "# Регистрация DataFrame как временное представление\n",
    "employees_df.createOrReplaceTempView(\"employees\")\n",
    "departments_df.createOrReplaceTempView(\"departments\")"
   ]
  },
  {
   "cell_type": "code",
   "execution_count": 9,
   "metadata": {},
   "outputs": [],
   "source": [
    "# Альтернативный способ - создание глобального временного представления\n",
    "employees_df.createOrReplaceGlobalTempView(\"global_employees\")"
   ]
  },
  {
   "cell_type": "code",
   "execution_count": 10,
   "metadata": {},
   "outputs": [
    {
     "name": "stdout",
     "output_type": "stream",
     "text": [
      "Временные представления:\n",
      "[Table(name='departments', catalog=None, namespace=[], description=None, tableType='TEMPORARY', isTemporary=True), Table(name='employees', catalog=None, namespace=[], description=None, tableType='TEMPORARY', isTemporary=True)]\n"
     ]
    }
   ],
   "source": [
    "# Проверка регистрации временных представлений\n",
    "print(\"Временные представления:\")\n",
    "print(spark.catalog.listTables())\n"
   ]
  },
  {
   "cell_type": "markdown",
   "metadata": {},
   "source": [
    "## 3. Выполнение SQL-запросов\n",
    "\n",
    "### Базовые SQL-запросы\n"
   ]
  },
  {
   "cell_type": "code",
   "execution_count": 11,
   "metadata": {},
   "outputs": [
    {
     "name": "stdout",
     "output_type": "stream",
     "text": [
      "+---+-----+---+----------+------+\n",
      "| id| name|age|department|salary|\n",
      "+---+-----+---+----------+------+\n",
      "|  1| John| 30|        IT| 65000|\n",
      "|  2|Alice| 25|        HR| 55000|\n",
      "|  3|  Bob| 40|   Finance| 70000|\n",
      "|  4|Carol| 35|        IT| 68000|\n",
      "|  5|David| 45| Marketing| 60000|\n",
      "+---+-----+---+----------+------+\n",
      "\n"
     ]
    }
   ],
   "source": [
    "# Простой SELECT запрос\n",
    "result = spark.sql(\"SELECT * FROM employees LIMIT 5\")\n",
    "result.show()"
   ]
  },
  {
   "cell_type": "code",
   "execution_count": 12,
   "metadata": {},
   "outputs": [
    {
     "name": "stdout",
     "output_type": "stream",
     "text": [
      "+-----+---+----------+------+\n",
      "| name|age|department|salary|\n",
      "+-----+---+----------+------+\n",
      "|  Bob| 40|   Finance| 70000|\n",
      "|Carol| 35|        IT| 68000|\n",
      "|Frank| 50|   Finance| 75000|\n",
      "|Grace| 33| Marketing| 62000|\n",
      "|Henry| 31|        IT| 67000|\n",
      "+-----+---+----------+------+\n",
      "\n"
     ]
    }
   ],
   "source": [
    "# SELECT с фильтрацией\n",
    "result = spark.sql(\"\"\"\n",
    "SELECT name, age, department, salary \n",
    "FROM employees \n",
    "WHERE age > 30 AND salary > 60000\n",
    "\"\"\")\n",
    "result.show()\n"
   ]
  },
  {
   "cell_type": "code",
   "execution_count": 13,
   "metadata": {},
   "outputs": [
    {
     "name": "stdout",
     "output_type": "stream",
     "text": [
      "+----------+--------------+------------------+----------+----------+\n",
      "|department|employee_count|        avg_salary|max_salary|min_salary|\n",
      "+----------+--------------+------------------+----------+----------+\n",
      "|   Finance|             2|           72500.0|     75000|     70000|\n",
      "|        IT|             3| 66666.66666666667|     68000|     65000|\n",
      "| Marketing|             2|           61000.0|     62000|     60000|\n",
      "|        HR|             3|53666.666666666664|     55000|     52000|\n",
      "+----------+--------------+------------------+----------+----------+\n",
      "\n"
     ]
    }
   ],
   "source": [
    "# Агрегирование данных\n",
    "result = spark.sql(\"\"\"\n",
    "SELECT \n",
    "    department, COUNT(*) as employee_count, \n",
    "    AVG(salary) as avg_salary, \n",
    "    MAX(salary) as max_salary, \n",
    "    MIN(salary) as min_salary\n",
    "FROM employees\n",
    "GROUP BY department\n",
    "ORDER BY avg_salary DESC\n",
    "\"\"\")\n",
    "result.show()\n"
   ]
  },
  {
   "cell_type": "markdown",
   "metadata": {},
   "source": [
    "### Соединение таблиц\n"
   ]
  },
  {
   "cell_type": "code",
   "execution_count": 14,
   "metadata": {},
   "outputs": [
    {
     "name": "stdout",
     "output_type": "stream",
     "text": [
      "+-----+---+------+--------------------+----------+------+\n",
      "| name|age|salary|           dept_name|  location|budget|\n",
      "+-----+---+------+--------------------+----------+------+\n",
      "|Henry| 31| 67000|Information Techn...|Building A|500000|\n",
      "|Carol| 35| 68000|Information Techn...|Building A|500000|\n",
      "| John| 30| 65000|Information Techn...|Building A|500000|\n",
      "|  Ivy| 27| 54000|     Human Resources|Building B|300000|\n",
      "|  Eva| 28| 52000|     Human Resources|Building B|300000|\n",
      "|Alice| 25| 55000|     Human Resources|Building B|300000|\n",
      "|Frank| 50| 75000|  Finance Department|Building A|450000|\n",
      "|  Bob| 40| 70000|  Finance Department|Building A|450000|\n",
      "|Grace| 33| 62000|Marketing Department|Building C|400000|\n",
      "|David| 45| 60000|Marketing Department|Building C|400000|\n",
      "+-----+---+------+--------------------+----------+------+\n",
      "\n"
     ]
    }
   ],
   "source": [
    "# JOIN запрос\n",
    "result = spark.sql(\"\"\"\n",
    "SELECT e.name, \n",
    "       e.age, \n",
    "       e.salary, \n",
    "       d.dept_name, \n",
    "       d.location, \n",
    "       d.budget\n",
    "FROM employees e\n",
    "JOIN departments d ON e.department = d.dept_id\n",
    "\"\"\")\n",
    "result.show()\n"
   ]
  },
  {
   "cell_type": "code",
   "execution_count": 15,
   "metadata": {},
   "outputs": [
    {
     "name": "stdout",
     "output_type": "stream",
     "text": [
      "+-----+----------+--------------------+----------+\n",
      "| name|department|           dept_name|  location|\n",
      "+-----+----------+--------------------+----------+\n",
      "| John|        IT|Information Techn...|Building A|\n",
      "|Alice|        HR|     Human Resources|Building B|\n",
      "|  Bob|   Finance|  Finance Department|Building A|\n",
      "|Carol|        IT|Information Techn...|Building A|\n",
      "|David| Marketing|Marketing Department|Building C|\n",
      "|  Eva|        HR|     Human Resources|Building B|\n",
      "|Frank|   Finance|  Finance Department|Building A|\n",
      "|Grace| Marketing|Marketing Department|Building C|\n",
      "|Henry|        IT|Information Techn...|Building A|\n",
      "|  Ivy|        HR|     Human Resources|Building B|\n",
      "+-----+----------+--------------------+----------+\n",
      "\n"
     ]
    }
   ],
   "source": [
    "# LEFT JOIN\n",
    "result = spark.sql(\"\"\"\n",
    "SELECT e.name, e.department, d.dept_name, d.location\n",
    "FROM employees e\n",
    "LEFT JOIN departments d ON e.department = d.dept_id\n",
    "\"\"\")\n",
    "result.show()"
   ]
  },
  {
   "cell_type": "markdown",
   "metadata": {},
   "source": [
    "\n",
    "### Подзапросы и представления\n"
   ]
  },
  {
   "cell_type": "code",
   "execution_count": 16,
   "metadata": {},
   "outputs": [
    {
     "name": "stdout",
     "output_type": "stream",
     "text": [
      "+-----+---+----------+------+----+\n",
      "| name|age|department|salary|rank|\n",
      "+-----+---+----------+------+----+\n",
      "|Frank| 50|   Finance| 75000|   1|\n",
      "|  Bob| 40|   Finance| 70000|   2|\n",
      "|Alice| 25|        HR| 55000|   1|\n",
      "|  Ivy| 27|        HR| 54000|   2|\n",
      "|Carol| 35|        IT| 68000|   1|\n",
      "|Henry| 31|        IT| 67000|   2|\n",
      "|Grace| 33| Marketing| 62000|   1|\n",
      "|David| 45| Marketing| 60000|   2|\n",
      "+-----+---+----------+------+----+\n",
      "\n"
     ]
    }
   ],
   "source": [
    "# Использование подзапроса\n",
    "result = spark.sql(\"\"\"\n",
    "SELECT *\n",
    "FROM (\n",
    "    SELECT \n",
    "        name, age, department, salary,\n",
    "        RANK() OVER (PARTITION BY department ORDER BY salary DESC) as rank\n",
    "    FROM employees\n",
    ") ranked\n",
    "WHERE rank <= 2\n",
    "\"\"\")\n",
    "result.show()\n"
   ]
  },
  {
   "cell_type": "code",
   "execution_count": 17,
   "metadata": {},
   "outputs": [
    {
     "name": "stdout",
     "output_type": "stream",
     "text": [
      "+---+-----+---+----------+------+\n",
      "| id| name|age|department|salary|\n",
      "+---+-----+---+----------+------+\n",
      "|  3|  Bob| 40|   Finance| 70000|\n",
      "|  4|Carol| 35|        IT| 68000|\n",
      "|  7|Frank| 50|   Finance| 75000|\n",
      "|  9|Henry| 31|        IT| 67000|\n",
      "+---+-----+---+----------+------+\n",
      "\n"
     ]
    }
   ],
   "source": [
    "# Создание и использование представления\n",
    "spark.sql(\"\"\"\n",
    "CREATE OR REPLACE TEMPORARY VIEW high_salary_employees AS\n",
    "SELECT * FROM employees WHERE salary > 65000\n",
    "\"\"\")\n",
    "\n",
    "result = spark.sql(\"SELECT * FROM high_salary_employees\")\n",
    "result.show()\n"
   ]
  },
  {
   "cell_type": "markdown",
   "metadata": {},
   "source": [
    "### Доступ к глобальным временным представлениям\n"
   ]
  },
  {
   "cell_type": "code",
   "execution_count": 18,
   "metadata": {},
   "outputs": [
    {
     "name": "stdout",
     "output_type": "stream",
     "text": [
      "+---+-----+---+----------+------+\n",
      "| id| name|age|department|salary|\n",
      "+---+-----+---+----------+------+\n",
      "|  1| John| 30|        IT| 65000|\n",
      "|  2|Alice| 25|        HR| 55000|\n",
      "|  3|  Bob| 40|   Finance| 70000|\n",
      "+---+-----+---+----------+------+\n",
      "\n"
     ]
    }
   ],
   "source": [
    "\n",
    "# Доступ к глобальному временному представлению\n",
    "result = spark.sql(\"SELECT * FROM global_temp.global_employees LIMIT 3\")\n",
    "result.show()\n"
   ]
  },
  {
   "cell_type": "markdown",
   "metadata": {},
   "source": [
    "\n",
    "## 4. Работа с таблицами и базами данных\n",
    "\n",
    "### Создание базы данных\n"
   ]
  },
  {
   "cell_type": "code",
   "execution_count": 19,
   "metadata": {},
   "outputs": [
    {
     "name": "stdout",
     "output_type": "stream",
     "text": [
      "Базы данных:\n",
      "+---------+\n",
      "|namespace|\n",
      "+---------+\n",
      "|  company|\n",
      "|  default|\n",
      "+---------+\n",
      "\n"
     ]
    }
   ],
   "source": [
    "\n",
    "# Создание базы данных\n",
    "spark.sql(\"CREATE DATABASE IF NOT EXISTS company\")\n",
    "\n",
    "# Просмотр баз данных\n",
    "print(\"Базы данных:\")\n",
    "spark.sql(\"SHOW DATABASES\").show()\n"
   ]
  },
  {
   "cell_type": "markdown",
   "metadata": {},
   "source": [
    "### Создание постоянных таблиц"
   ]
  },
  {
   "cell_type": "code",
   "execution_count": 20,
   "metadata": {},
   "outputs": [
    {
     "name": "stderr",
     "output_type": "stream",
     "text": [
      "                                                                                \r"
     ]
    },
    {
     "name": "stdout",
     "output_type": "stream",
     "text": [
      "Таблицы в базе данных company:\n",
      "+---------+--------------------+-----------+\n",
      "|namespace|           tableName|isTemporary|\n",
      "+---------+--------------------+-----------+\n",
      "|  company|         departments|      false|\n",
      "|  company|           employees|      false|\n",
      "|         |         departments|       true|\n",
      "|         |           employees|       true|\n",
      "|         |high_salary_emplo...|       true|\n",
      "+---------+--------------------+-----------+\n",
      "\n"
     ]
    }
   ],
   "source": [
    "# Создание постоянной таблицы\n",
    "spark.sql(\"\"\"\n",
    "CREATE TABLE IF NOT EXISTS company.employees (\n",
    "    id INT,\n",
    "    name STRING,\n",
    "    age INT,\n",
    "    department STRING,\n",
    "    salary INT\n",
    ")\n",
    "\"\"\")\n",
    "\n",
    "# Запись данных в таблицу\n",
    "employees_df.write.mode(\"overwrite\").saveAsTable(\"company.employees\")\n",
    "\n",
    "# Создание еще одной таблицы\n",
    "departments_df.write.mode(\"overwrite\").saveAsTable(\"company.departments\")\n",
    "\n",
    "# Просмотр таблиц в базе данных\n",
    "print(\"Таблицы в базе данных company:\")\n",
    "spark.sql(\"SHOW TABLES IN company\").show()\n"
   ]
  },
  {
   "cell_type": "markdown",
   "metadata": {},
   "source": [
    "### Запросы к постоянным таблицам"
   ]
  },
  {
   "cell_type": "code",
   "execution_count": 21,
   "metadata": {},
   "outputs": [
    {
     "name": "stdout",
     "output_type": "stream",
     "text": [
      "+-----+----------+----------+\n",
      "| name|department|  location|\n",
      "+-----+----------+----------+\n",
      "| John|        IT|Building A|\n",
      "|  Bob|   Finance|Building A|\n",
      "|Carol|        IT|Building A|\n",
      "|Frank|   Finance|Building A|\n",
      "|Grace| Marketing|Building C|\n",
      "|Henry|        IT|Building A|\n",
      "+-----+----------+----------+\n",
      "\n"
     ]
    }
   ],
   "source": [
    "# Запрос к постоянной таблице\n",
    "result = spark.sql(\"\"\"\n",
    "SELECT e.name, e.department, d.location\n",
    "FROM company.employees e\n",
    "JOIN company.departments d ON e.department = d.dept_id\n",
    "WHERE e.salary > 60000\n",
    "\"\"\")\n",
    "result.show()\n"
   ]
  },
  {
   "cell_type": "markdown",
   "metadata": {},
   "source": [
    "\n",
    "### Метаданные таблиц и столбцов\n"
   ]
  },
  {
   "cell_type": "code",
   "execution_count": 22,
   "metadata": {},
   "outputs": [
    {
     "name": "stdout",
     "output_type": "stream",
     "text": [
      "Метаданные таблицы:\n",
      "+----------+---------+-------+\n",
      "|  col_name|data_type|comment|\n",
      "+----------+---------+-------+\n",
      "|        id|      int|   NULL|\n",
      "|      name|   string|   NULL|\n",
      "|       age|      int|   NULL|\n",
      "|department|   string|   NULL|\n",
      "|    salary|      int|   NULL|\n",
      "+----------+---------+-------+\n",
      "\n"
     ]
    }
   ],
   "source": [
    "# Просмотр метаданных таблицы\n",
    "print(\"Метаданные таблицы:\")\n",
    "spark.sql(\"DESCRIBE TABLE company.employees\").show()\n"
   ]
  },
  {
   "cell_type": "code",
   "execution_count": 23,
   "metadata": {},
   "outputs": [
    {
     "name": "stdout",
     "output_type": "stream",
     "text": [
      "Расширенные метаданные:\n",
      "+----------------------------+---------------------------------------------------------------------------------------+-------+\n",
      "|col_name                    |data_type                                                                              |comment|\n",
      "+----------------------------+---------------------------------------------------------------------------------------+-------+\n",
      "|id                          |int                                                                                    |NULL   |\n",
      "|name                        |string                                                                                 |NULL   |\n",
      "|age                         |int                                                                                    |NULL   |\n",
      "|department                  |string                                                                                 |NULL   |\n",
      "|salary                      |int                                                                                    |NULL   |\n",
      "|                            |                                                                                       |       |\n",
      "|# Detailed Table Information|                                                                                       |       |\n",
      "|Catalog                     |spark_catalog                                                                          |       |\n",
      "|Database                    |company                                                                                |       |\n",
      "|Table                       |employees                                                                              |       |\n",
      "|Created Time                |Tue Jun 10 22:11:46 MSK 2025                                                           |       |\n",
      "|Last Access                 |UNKNOWN                                                                                |       |\n",
      "|Created By                  |Spark 3.5.5                                                                            |       |\n",
      "|Type                        |MANAGED                                                                                |       |\n",
      "|Provider                    |parquet                                                                                |       |\n",
      "|Location                    |file:/home/ono/otus/de/otus-de-spark-api/notebooks/spark-warehouse/company.db/employees|       |\n",
      "+----------------------------+---------------------------------------------------------------------------------------+-------+\n",
      "\n"
     ]
    }
   ],
   "source": [
    "\n",
    "# Просмотр расширенных метаданных\n",
    "print(\"Расширенные метаданные:\")\n",
    "spark.sql(\"DESCRIBE EXTENDED company.employees\").show(truncate=False)\n"
   ]
  },
  {
   "cell_type": "markdown",
   "metadata": {},
   "source": [
    "\n",
    "## 5. Преобразование между SQL и DataFrame API\n",
    "Spark SQL и DataFrame API тесно интегрированы, что позволяет легко переходить от одного к другому.\n",
    "\n",
    "### От SQL к DataFrame\n"
   ]
  },
  {
   "cell_type": "code",
   "execution_count": 24,
   "metadata": {},
   "outputs": [
    {
     "name": "stdout",
     "output_type": "stream",
     "text": [
      "+----------+--------------+----------+\n",
      "|department|employee_count|avg_salary|\n",
      "+----------+--------------+----------+\n",
      "|   Finance|             2|   72500.0|\n",
      "|        IT|             3|  66666.67|\n",
      "| Marketing|             2|   61000.0|\n",
      "|        HR|             3|  53666.67|\n",
      "+----------+--------------+----------+\n",
      "\n"
     ]
    }
   ],
   "source": [
    "# Выполнение SQL-запроса и преобразование результата в DataFrame\n",
    "dept_stats_df = spark.sql(\"\"\"\n",
    "SELECT \n",
    "    department, COUNT(*) as employee_count, \n",
    "    ROUND(AVG(salary), 2) as avg_salary\n",
    "FROM employees\n",
    "GROUP BY department\n",
    "ORDER BY avg_salary DESC\n",
    "\"\"\")\n",
    "\n",
    "# Работа с полученным DataFrame\n",
    "dept_stats_df.show()"
   ]
  },
  {
   "cell_type": "code",
   "execution_count": 25,
   "metadata": {},
   "outputs": [
    {
     "name": "stdout",
     "output_type": "stream",
     "text": [
      "root\n",
      " |-- department: string (nullable = true)\n",
      " |-- employee_count: long (nullable = false)\n",
      " |-- avg_salary: double (nullable = true)\n",
      "\n"
     ]
    }
   ],
   "source": [
    "dept_stats_df.printSchema()"
   ]
  },
  {
   "cell_type": "code",
   "execution_count": 26,
   "metadata": {},
   "outputs": [
    {
     "name": "stdout",
     "output_type": "stream",
     "text": [
      "+----------+--------------+----------+---------------+\n",
      "|department|employee_count|avg_salary|salary_category|\n",
      "+----------+--------------+----------+---------------+\n",
      "|   Finance|             2|   72500.0|           High|\n",
      "|        IT|             3|  66666.67|           High|\n",
      "| Marketing|             2|   61000.0|         Medium|\n",
      "|        HR|             3|  53666.67|            Low|\n",
      "+----------+--------------+----------+---------------+\n",
      "\n"
     ]
    }
   ],
   "source": [
    "# Применение дополнительных операций DataFrame\n",
    "dept_stats_df_extended = dept_stats_df.withColumn(\n",
    "    \"salary_category\", \n",
    "    when(col(\"avg_salary\") > 65000, \"High\")\n",
    "    .when(col(\"avg_salary\") > 55000, \"Medium\")\n",
    "    .otherwise(\"Low\")\n",
    ")\n",
    "dept_stats_df_extended.show()"
   ]
  },
  {
   "cell_type": "markdown",
   "metadata": {},
   "source": [
    "\n",
    "### От DataFrame к SQL\n"
   ]
  },
  {
   "cell_type": "code",
   "execution_count": 27,
   "metadata": {},
   "outputs": [],
   "source": [
    "# Создание DataFrame\n",
    "data = [(1, \"Product A\", 100, 15.5), (2, \"Product B\", 200, 10.0), \n",
    "        (3, \"Product C\", 150, 20.0), (4, \"Product D\", 80, 25.5)]\n",
    "columns = [\"id\", \"name\", \"stock\", \"price\"]\n",
    "products_df = spark.createDataFrame(data, columns)\n"
   ]
  },
  {
   "cell_type": "code",
   "execution_count": 28,
   "metadata": {},
   "outputs": [],
   "source": [
    "# Регистрация DataFrame как временного представления\n",
    "products_df.createOrReplaceTempView(\"products\")\n"
   ]
  },
  {
   "cell_type": "code",
   "execution_count": 29,
   "metadata": {},
   "outputs": [
    {
     "name": "stderr",
     "output_type": "stream",
     "text": [
      "[Stage 33:===========================================>              (6 + 2) / 8]\r"
     ]
    },
    {
     "name": "stdout",
     "output_type": "stream",
     "text": [
      "+---------+-----+-----+---------------+\n",
      "|     name|stock|price|inventory_value|\n",
      "+---------+-----+-----+---------------+\n",
      "|Product C|  150| 20.0|         3000.0|\n",
      "|Product D|   80| 25.5|         2040.0|\n",
      "|Product B|  200| 10.0|         2000.0|\n",
      "|Product A|  100| 15.5|         1550.0|\n",
      "+---------+-----+-----+---------------+\n",
      "\n"
     ]
    },
    {
     "name": "stderr",
     "output_type": "stream",
     "text": [
      "                                                                                \r"
     ]
    }
   ],
   "source": [
    "\n",
    "# Выполнение SQL-запроса к представлению\n",
    "result = spark.sql(\"\"\"\n",
    "SELECT name, stock, price, stock * price as inventory_value\n",
    "FROM products\n",
    "ORDER BY inventory_value DESC\n",
    "\"\"\")\n",
    "result.show()\n"
   ]
  },
  {
   "cell_type": "markdown",
   "metadata": {},
   "source": [
    "\n",
    "## 6. Работа с пользовательскими функциями в SQL\n",
    "\n",
    "### Регистрация UDF в SQL\n"
   ]
  },
  {
   "cell_type": "code",
   "execution_count": 30,
   "metadata": {},
   "outputs": [
    {
     "data": {
      "text/plain": [
       "<function __main__.calculate_tax(salary)>"
      ]
     },
     "execution_count": 30,
     "metadata": {},
     "output_type": "execute_result"
    }
   ],
   "source": [
    "# Определение пользовательской функции Python\n",
    "def calculate_tax(salary):\n",
    "    if salary < 60000:\n",
    "        return salary * 0.15\n",
    "    else:\n",
    "        return salary * 0.2\n",
    "\n",
    "# Регистрация UDF для использования в SQL\n",
    "spark.udf.register(\"calculate_tax\", calculate_tax, DoubleType())"
   ]
  },
  {
   "cell_type": "code",
   "execution_count": 31,
   "metadata": {},
   "outputs": [
    {
     "name": "stderr",
     "output_type": "stream",
     "text": [
      "[Stage 34:>                                                         (0 + 1) / 1]\r"
     ]
    },
    {
     "name": "stdout",
     "output_type": "stream",
     "text": [
      "+-----+------+-------+----------+\n",
      "| name|salary|    tax|net_salary|\n",
      "+-----+------+-------+----------+\n",
      "|Frank| 75000|15000.0|   60000.0|\n",
      "|  Bob| 70000|14000.0|   56000.0|\n",
      "|Carol| 68000|13600.0|   54400.0|\n",
      "|Henry| 67000|13400.0|   53600.0|\n",
      "| John| 65000|13000.0|   52000.0|\n",
      "|Grace| 62000|12400.0|   49600.0|\n",
      "|David| 60000|12000.0|   48000.0|\n",
      "|Alice| 55000| 8250.0|   46750.0|\n",
      "|  Ivy| 54000| 8100.0|   45900.0|\n",
      "|  Eva| 52000| 7800.0|   44200.0|\n",
      "+-----+------+-------+----------+\n",
      "\n"
     ]
    },
    {
     "name": "stderr",
     "output_type": "stream",
     "text": [
      "                                                                                \r"
     ]
    }
   ],
   "source": [
    "\n",
    "# Использование UDF в SQL-запросе\n",
    "result = spark.sql(\"\"\"\n",
    "SELECT \n",
    "    name, salary, calculate_tax(salary) as tax,\n",
    "    salary - calculate_tax(salary) as net_salary\n",
    "FROM employees\n",
    "ORDER BY salary DESC\n",
    "\"\"\")\n",
    "result.show()\n"
   ]
  },
  {
   "cell_type": "markdown",
   "metadata": {},
   "source": [
    "\n",
    "### Использование встроенных функций SQL\n"
   ]
  },
  {
   "cell_type": "code",
   "execution_count": 36,
   "metadata": {},
   "outputs": [
    {
     "name": "stdout",
     "output_type": "stream",
     "text": [
      "+-----+----------+------------+-----------+------------+\n",
      "| name|upper_name|first_letter|name_length|age_category|\n",
      "+-----+----------+------------+-----------+------------+\n",
      "| John|      JOHN|           J|          4|  Mid-career|\n",
      "|Alice|     ALICE|           A|          5|       Young|\n",
      "|  Bob|       BOB|           B|          3| Experienced|\n",
      "|Carol|     CAROL|           C|          5|  Mid-career|\n",
      "|David|     DAVID|           D|          5| Experienced|\n",
      "|  Eva|       EVA|           E|          3|       Young|\n",
      "|Frank|     FRANK|           F|          5| Experienced|\n",
      "|Grace|     GRACE|           G|          5|  Mid-career|\n",
      "|Henry|     HENRY|           H|          5|  Mid-career|\n",
      "|  Ivy|       IVY|           I|          3|       Young|\n",
      "+-----+----------+------------+-----------+------------+\n",
      "\n"
     ]
    }
   ],
   "source": [
    "# Использование встроенных функций в SQL\n",
    "result = spark.sql(\"\"\"\n",
    "SELECT \n",
    "    name,\n",
    "    UPPER(name) as upper_name,\n",
    "    SUBSTRING(name, 1, 1) as first_letter,\n",
    "    length(name) as name_length,\n",
    "    CASE \n",
    "        WHEN age < 30 THEN 'Young'\n",
    "        WHEN age < 40 THEN 'Mid-career'\n",
    "        ELSE 'Experienced'\n",
    "    END as age_category\n",
    "FROM employees\n",
    "\"\"\")\n",
    "result.show()\n"
   ]
  },
  {
   "cell_type": "markdown",
   "metadata": {},
   "source": [
    "\n",
    "## 7. Кэширование и оптимизация SQL-запросов\n",
    "\n",
    "### Кэширование таблиц и представлений\n"
   ]
  },
  {
   "cell_type": "code",
   "execution_count": 32,
   "metadata": {},
   "outputs": [
    {
     "name": "stdout",
     "output_type": "stream",
     "text": [
      "Кэшированные таблицы:\n",
      "+---------+--------------------+-----------+\n",
      "|namespace|           tableName|isTemporary|\n",
      "+---------+--------------------+-----------+\n",
      "|         |         departments|       true|\n",
      "|         |           employees|       true|\n",
      "|         |high_salary_emplo...|       true|\n",
      "|         |            products|       true|\n",
      "+---------+--------------------+-----------+\n",
      "\n"
     ]
    }
   ],
   "source": [
    "# Кэширование таблицы\n",
    "spark.sql(\"CACHE TABLE employees\")\n",
    "\n",
    "# Проверка кэшированных таблиц\n",
    "print(\"Кэшированные таблицы:\")\n",
    "spark.sql(\"SHOW TABLES\").filter(\"isTemporary = true\").show()\n"
   ]
  },
  {
   "cell_type": "code",
   "execution_count": 33,
   "metadata": {},
   "outputs": [
    {
     "name": "stdout",
     "output_type": "stream",
     "text": [
      "+----------+-----+------------------+\n",
      "|department|count|        avg_salary|\n",
      "+----------+-----+------------------+\n",
      "|        HR|    3|53666.666666666664|\n",
      "|   Finance|    2|           72500.0|\n",
      "| Marketing|    2|           61000.0|\n",
      "|        IT|    3| 66666.66666666667|\n",
      "+----------+-----+------------------+\n",
      "\n"
     ]
    }
   ],
   "source": [
    "# Выполнение запроса к кэшированной таблице\n",
    "result = spark.sql(\"\"\"\n",
    "SELECT department, COUNT(*) as count, AVG(salary) as avg_salary\n",
    "FROM employees\n",
    "GROUP BY department\n",
    "\"\"\")\n",
    "result.show()\n"
   ]
  },
  {
   "cell_type": "code",
   "execution_count": 34,
   "metadata": {},
   "outputs": [
    {
     "data": {
      "text/plain": [
       "DataFrame[]"
      ]
     },
     "execution_count": 34,
     "metadata": {},
     "output_type": "execute_result"
    }
   ],
   "source": [
    "\n",
    "# Очистка кэша конкретной таблицы\n",
    "spark.sql(\"UNCACHE TABLE IF EXISTS employees\")\n"
   ]
  },
  {
   "cell_type": "markdown",
   "metadata": {},
   "source": [
    "### План выполнения запроса"
   ]
  },
  {
   "cell_type": "code",
   "execution_count": 35,
   "metadata": {},
   "outputs": [
    {
     "name": "stdout",
     "output_type": "stream",
     "text": [
      "Логический план запроса:\n",
      "== Physical Plan ==\n",
      "AdaptiveSparkPlan isFinalPlan=false\n",
      "+- Sort [salary#21 DESC NULLS LAST], true, 0\n",
      "   +- Exchange rangepartitioning(salary#21 DESC NULLS LAST, 200), ENSURE_REQUIREMENTS, [plan_id=880]\n",
      "      +- Project [name#18, department#20, salary#21, location#73]\n",
      "         +- BroadcastHashJoin [department#20], [dept_id#71], Inner, BuildRight, false\n",
      "            :- Filter ((isnotnull(salary#21) AND (salary#21 > 60000)) AND isnotnull(department#20))\n",
      "            :  +- FileScan csv [name#18,department#20,salary#21] Batched: false, DataFilters: [isnotnull(salary#21), (salary#21 > 60000), isnotnull(department#20)], Format: CSV, Location: InMemoryFileIndex(1 paths)[file:/home/ono/otus/de/otus-de-spark-api/notebooks/employees.csv], PartitionFilters: [], PushedFilters: [IsNotNull(salary), GreaterThan(salary,60000), IsNotNull(department)], ReadSchema: struct<name:string,department:string,salary:int>\n",
      "            +- BroadcastExchange HashedRelationBroadcastMode(List(input[0, string, false]),false), [plan_id=876]\n",
      "               +- Filter isnotnull(dept_id#71)\n",
      "                  +- FileScan csv [dept_id#71,location#73] Batched: false, DataFilters: [isnotnull(dept_id#71)], Format: CSV, Location: InMemoryFileIndex(1 paths)[file:/home/ono/otus/de/otus-de-spark-api/notebooks/departments.csv], PartitionFilters: [], PushedFilters: [IsNotNull(dept_id)], ReadSchema: struct<dept_id:string,location:string>\n",
      "\n",
      "\n"
     ]
    }
   ],
   "source": [
    "# Получение плана выполнения запроса\n",
    "query = \"\"\"\n",
    "SELECT e.name, e.department, e.salary, d.location\n",
    "FROM employees e\n",
    "JOIN departments d ON e.department = d.dept_id\n",
    "WHERE e.salary > 60000\n",
    "ORDER BY e.salary DESC\n",
    "\"\"\"\n",
    "\n",
    "# Вывод логического плана\n",
    "print(\"Логический план запроса:\")\n",
    "spark.sql(query).explain()\n"
   ]
  },
  {
   "cell_type": "code",
   "execution_count": 36,
   "metadata": {},
   "outputs": [
    {
     "name": "stdout",
     "output_type": "stream",
     "text": [
      "\n",
      "Расширенный план запроса:\n",
      "== Parsed Logical Plan ==\n",
      "'Sort ['e.salary DESC NULLS LAST], true\n",
      "+- 'Project ['e.name, 'e.department, 'e.salary, 'd.location]\n",
      "   +- 'Filter ('e.salary > 60000)\n",
      "      +- 'Join Inner, ('e.department = 'd.dept_id)\n",
      "         :- 'SubqueryAlias e\n",
      "         :  +- 'UnresolvedRelation [employees], [], false\n",
      "         +- 'SubqueryAlias d\n",
      "            +- 'UnresolvedRelation [departments], [], false\n",
      "\n",
      "== Analyzed Logical Plan ==\n",
      "name: string, department: string, salary: int, location: string\n",
      "Sort [salary#21 DESC NULLS LAST], true\n",
      "+- Project [name#18, department#20, salary#21, location#73]\n",
      "   +- Filter (salary#21 > 60000)\n",
      "      +- Join Inner, (department#20 = dept_id#71)\n",
      "         :- SubqueryAlias e\n",
      "         :  +- SubqueryAlias employees\n",
      "         :     +- View (`employees`, [id#17,name#18,age#19,department#20,salary#21])\n",
      "         :        +- Relation [id#17,name#18,age#19,department#20,salary#21] csv\n",
      "         +- SubqueryAlias d\n",
      "            +- SubqueryAlias departments\n",
      "               +- View (`departments`, [dept_id#71,dept_name#72,location#73,budget#74])\n",
      "                  +- Relation [dept_id#71,dept_name#72,location#73,budget#74] csv\n",
      "\n",
      "== Optimized Logical Plan ==\n",
      "Sort [salary#21 DESC NULLS LAST], true\n",
      "+- Project [name#18, department#20, salary#21, location#73]\n",
      "   +- Join Inner, (department#20 = dept_id#71)\n",
      "      :- Project [name#18, department#20, salary#21]\n",
      "      :  +- Filter ((isnotnull(salary#21) AND (salary#21 > 60000)) AND isnotnull(department#20))\n",
      "      :     +- Relation [id#17,name#18,age#19,department#20,salary#21] csv\n",
      "      +- Project [dept_id#71, location#73]\n",
      "         +- Filter isnotnull(dept_id#71)\n",
      "            +- Relation [dept_id#71,dept_name#72,location#73,budget#74] csv\n",
      "\n",
      "== Physical Plan ==\n",
      "AdaptiveSparkPlan isFinalPlan=false\n",
      "+- Sort [salary#21 DESC NULLS LAST], true, 0\n",
      "   +- Exchange rangepartitioning(salary#21 DESC NULLS LAST, 200), ENSURE_REQUIREMENTS, [plan_id=917]\n",
      "      +- Project [name#18, department#20, salary#21, location#73]\n",
      "         +- BroadcastHashJoin [department#20], [dept_id#71], Inner, BuildRight, false\n",
      "            :- Filter ((isnotnull(salary#21) AND (salary#21 > 60000)) AND isnotnull(department#20))\n",
      "            :  +- FileScan csv [name#18,department#20,salary#21] Batched: false, DataFilters: [isnotnull(salary#21), (salary#21 > 60000), isnotnull(department#20)], Format: CSV, Location: InMemoryFileIndex(1 paths)[file:/home/ono/otus/de/otus-de-spark-api/notebooks/employees.csv], PartitionFilters: [], PushedFilters: [IsNotNull(salary), GreaterThan(salary,60000), IsNotNull(department)], ReadSchema: struct<name:string,department:string,salary:int>\n",
      "            +- BroadcastExchange HashedRelationBroadcastMode(List(input[0, string, false]),false), [plan_id=913]\n",
      "               +- Filter isnotnull(dept_id#71)\n",
      "                  +- FileScan csv [dept_id#71,location#73] Batched: false, DataFilters: [isnotnull(dept_id#71)], Format: CSV, Location: InMemoryFileIndex(1 paths)[file:/home/ono/otus/de/otus-de-spark-api/notebooks/departments.csv], PartitionFilters: [], PushedFilters: [IsNotNull(dept_id)], ReadSchema: struct<dept_id:string,location:string>\n",
      "\n"
     ]
    }
   ],
   "source": [
    "\n",
    "# Вывод расширенного плана с физическим планом\n",
    "print(\"\\nРасширенный план запроса:\")\n",
    "spark.sql(query).explain(extended=True)\n"
   ]
  },
  {
   "cell_type": "markdown",
   "metadata": {},
   "source": [
    "## 8. Практические примеры\n",
    "\n",
    "### Пример 1: Анализ продаж с использованием Spark SQL\n"
   ]
  },
  {
   "cell_type": "code",
   "execution_count": 42,
   "metadata": {},
   "outputs": [],
   "source": [
    "# Создание файла с данными о продажах\n",
    "sales_data = \"\"\"\n",
    "date,store_id,product_id,quantity,revenue\n",
    "2023-01-01,1,101,5,250.00\n",
    "2023-01-01,1,102,3,150.00\n",
    "2023-01-01,2,101,4,200.00\n",
    "2023-01-02,1,103,2,100.00\n",
    "2023-01-02,2,102,5,250.00\n",
    "2023-01-02,3,101,3,150.00\n",
    "2023-01-03,1,101,6,300.00\n",
    "2023-01-03,2,103,4,200.00\n",
    "2023-01-03,3,102,3,150.00\n",
    "2023-01-04,1,102,4,200.00\n",
    "2023-01-04,2,101,5,250.00\n",
    "2023-01-05,3,103,6,300.00\n",
    "\"\"\"\n",
    "\n",
    "with open(\"sales.csv\", \"w\") as f:\n",
    "    f.write(sales_data)\n",
    "\n",
    "# Создание файла с информацией о магазинах\n",
    "stores_data = \"\"\"\n",
    "store_id,store_name,region\n",
    "1,Downtown Store,East\n",
    "2,Mall Store,West\n",
    "3,Suburban Store,North\n",
    "\"\"\"\n",
    "\n",
    "with open(\"stores.csv\", \"w\") as f:\n",
    "    f.write(stores_data)\n",
    "\n",
    "# Создание файла с информацией о продуктах\n",
    "products_data = \"\"\"\n",
    "product_id,product_name,category,unit_price\n",
    "101,Laptop,Electronics,500.00\n",
    "102,Smartphone,Electronics,400.00\n",
    "103,Headphones,Accessories,150.00\n",
    "\"\"\"\n",
    "\n",
    "with open(\"products.csv\", \"w\") as f:\n",
    "    f.write(products_data)\n"
   ]
  },
  {
   "cell_type": "code",
   "execution_count": 43,
   "metadata": {},
   "outputs": [],
   "source": [
    "# Чтение данных в DataFrame\n",
    "sales_df = spark.read.csv(\"sales.csv\", header=True, inferSchema=True)\n",
    "stores_df = spark.read.csv(\"stores.csv\", header=True, inferSchema=True)\n",
    "products_df = spark.read.csv(\"products.csv\", header=True, inferSchema=True)\n"
   ]
  },
  {
   "cell_type": "code",
   "execution_count": 44,
   "metadata": {},
   "outputs": [],
   "source": [
    "# Регистрация DataFrame как временных представлений\n",
    "sales_df.createOrReplaceTempView(\"sales\")\n",
    "stores_df.createOrReplaceTempView(\"stores\")\n",
    "products_df.createOrReplaceTempView(\"products\")\n"
   ]
  },
  {
   "cell_type": "code",
   "execution_count": 45,
   "metadata": {},
   "outputs": [
    {
     "name": "stdout",
     "output_type": "stream",
     "text": [
      "+----------+--------------+-------------+\n",
      "|      date|total_quantity|total_revenue|\n",
      "+----------+--------------+-------------+\n",
      "|2023-01-01|            12|        600.0|\n",
      "|2023-01-02|            10|        500.0|\n",
      "|2023-01-03|            13|        650.0|\n",
      "|2023-01-04|             9|        450.0|\n",
      "|2023-01-05|             6|        300.0|\n",
      "+----------+--------------+-------------+\n",
      "\n"
     ]
    }
   ],
   "source": [
    "# Анализ продаж с использованием SQL\n",
    "# 1. Общие продажи по дням\n",
    "daily_sales = spark.sql(\"\"\"\n",
    "SELECT date, SUM(quantity) as total_quantity, SUM(revenue) as total_revenue\n",
    "FROM sales\n",
    "GROUP BY date\n",
    "ORDER BY date\n",
    "\"\"\")\n",
    "\n",
    "daily_sales.show()\n"
   ]
  },
  {
   "cell_type": "code",
   "execution_count": 46,
   "metadata": {},
   "outputs": [
    {
     "name": "stdout",
     "output_type": "stream",
     "text": [
      "+-----------+--------------+-------------+\n",
      "|   category|total_quantity|total_revenue|\n",
      "+-----------+--------------+-------------+\n",
      "|Electronics|            38|       1900.0|\n",
      "|Accessories|            12|        600.0|\n",
      "+-----------+--------------+-------------+\n",
      "\n"
     ]
    }
   ],
   "source": [
    "# 2. Продажи по категориям продуктов\n",
    "category_sales = spark.sql(\"\"\"\n",
    "SELECT p.category, SUM(s.quantity) as total_quantity, SUM(s.revenue) as total_revenue\n",
    "FROM sales s\n",
    "JOIN products p ON s.product_id = p.product_id\n",
    "GROUP BY p.category\n",
    "ORDER BY total_revenue DESC\n",
    "\"\"\")\n",
    "\n",
    "category_sales.show()\n"
   ]
  },
  {
   "cell_type": "code",
   "execution_count": 47,
   "metadata": {},
   "outputs": [
    {
     "name": "stdout",
     "output_type": "stream",
     "text": [
      "+------+-----------+--------------+-------------+\n",
      "|region|   category|total_quantity|total_revenue|\n",
      "+------+-----------+--------------+-------------+\n",
      "|  East|Electronics|            18|        900.0|\n",
      "|  East|Accessories|             2|        100.0|\n",
      "| North|Accessories|             6|        300.0|\n",
      "| North|Electronics|             6|        300.0|\n",
      "|  West|Electronics|            14|        700.0|\n",
      "|  West|Accessories|             4|        200.0|\n",
      "+------+-----------+--------------+-------------+\n",
      "\n"
     ]
    }
   ],
   "source": [
    "# 3. Продажи по регионам и категориям\n",
    "region_category_sales = spark.sql(\"\"\"\n",
    "SELECT st.region, p.category, \n",
    "       SUM(s.quantity) as total_quantity, \n",
    "       SUM(s.revenue) as total_revenue\n",
    "FROM sales s\n",
    "JOIN stores st ON s.store_id = st.store_id\n",
    "JOIN products p ON s.product_id = p.product_id\n",
    "GROUP BY st.region, p.category\n",
    "ORDER BY st.region, total_revenue DESC\n",
    "\"\"\")\n",
    "\n",
    "region_category_sales.show()\n"
   ]
  },
  {
   "cell_type": "code",
   "execution_count": 48,
   "metadata": {},
   "outputs": [
    {
     "name": "stdout",
     "output_type": "stream",
     "text": [
      "+------------+--------------+-------------+------------+\n",
      "|product_name|total_quantity|total_revenue|selling_days|\n",
      "+------------+--------------+-------------+------------+\n",
      "|      Laptop|            23|       1150.0|           4|\n",
      "|  Smartphone|            15|        750.0|           4|\n",
      "|  Headphones|            12|        600.0|           3|\n",
      "+------------+--------------+-------------+------------+\n",
      "\n"
     ]
    }
   ],
   "source": [
    "# 4. Лучшие продукты по продажам\n",
    "top_products = spark.sql(\"\"\"\n",
    "SELECT p.product_name, SUM(s.quantity) as total_quantity, \n",
    "       SUM(s.revenue) as total_revenue,\n",
    "       COUNT(DISTINCT s.date) as selling_days\n",
    "FROM sales s\n",
    "JOIN products p ON s.product_id = p.product_id\n",
    "GROUP BY p.product_name\n",
    "ORDER BY total_revenue DESC\n",
    "\"\"\")\n",
    "\n",
    "top_products.show()\n"
   ]
  },
  {
   "cell_type": "code",
   "execution_count": 49,
   "metadata": {},
   "outputs": [
    {
     "name": "stdout",
     "output_type": "stream",
     "text": [
      "+-----------+---------+-------------+\n",
      "|day_of_week| day_name|total_revenue|\n",
      "+-----------+---------+-------------+\n",
      "|          1|   Sunday|        600.0|\n",
      "|          2|   Monday|        500.0|\n",
      "|          3|  Tuesday|        650.0|\n",
      "|          4|Wednesday|        450.0|\n",
      "|          5| Thursday|        300.0|\n",
      "+-----------+---------+-------------+\n",
      "\n"
     ]
    }
   ],
   "source": [
    "# 5. Продажи по дням недели\n",
    "sales_by_day_of_week = spark.sql(\"\"\"\n",
    "SELECT \n",
    "    DAYOFWEEK(date) as day_of_week,\n",
    "    CASE \n",
    "        WHEN DAYOFWEEK(date) = 1 THEN 'Sunday'\n",
    "        WHEN DAYOFWEEK(date) = 2 THEN 'Monday'\n",
    "        WHEN DAYOFWEEK(date) = 3 THEN 'Tuesday'\n",
    "        WHEN DAYOFWEEK(date) = 4 THEN 'Wednesday'\n",
    "        WHEN DAYOFWEEK(date) = 5 THEN 'Thursday'\n",
    "        WHEN DAYOFWEEK(date) = 6 THEN 'Friday'\n",
    "        WHEN DAYOFWEEK(date) = 7 THEN 'Saturday'\n",
    "    END as day_name,\n",
    "    SUM(revenue) as total_revenue\n",
    "FROM sales\n",
    "GROUP BY DAYOFWEEK(date)\n",
    "ORDER BY DAYOFWEEK(date)\n",
    "\"\"\")\n",
    "\n",
    "sales_by_day_of_week.show()\n"
   ]
  },
  {
   "cell_type": "code",
   "execution_count": 50,
   "metadata": {},
   "outputs": [
    {
     "data": {
      "image/png": "[encoded data removed]",
      "text/plain": [
       "<Figure size 864x432 with 1 Axes>"
      ]
     },
     "metadata": {
      "needs_background": "light"
     },
     "output_type": "display_data"
    }
   ],
   "source": [
    "# Визуализация результатов\n",
    "# Преобразование Spark DataFrame в Pandas DataFrame для визуализации\n",
    "daily_sales_pd = daily_sales.toPandas()\n",
    "daily_sales_pd['date'] = pd.to_datetime(daily_sales_pd['date'])\n",
    "\n",
    "plt.figure(figsize=(12, 6))\n",
    "plt.plot(daily_sales_pd['date'], daily_sales_pd['total_revenue'], marker='o')\n",
    "plt.title('Ежедневные продажи')\n",
    "plt.xlabel('Дата')\n",
    "plt.ylabel('Общая выручка')\n",
    "plt.grid(True)\n",
    "plt.tight_layout()\n",
    "plt.show()"
   ]
  },
  {
   "cell_type": "code",
   "execution_count": 51,
   "metadata": {},
   "outputs": [
    {
     "data": {
      "image/png": "[encoded data removed]",
      "text/plain": [
       "<Figure size 720x432 with 1 Axes>"
      ]
     },
     "metadata": {
      "needs_background": "light"
     },
     "output_type": "display_data"
    }
   ],
   "source": [
    "category_sales_pd = category_sales.toPandas()\n",
    "\n",
    "plt.figure(figsize=(10, 6))\n",
    "plt.bar(category_sales_pd['category'], category_sales_pd['total_revenue'])\n",
    "plt.title('Продажи по категориям')\n",
    "plt.xlabel('Категория')\n",
    "plt.ylabel('Общая выручка')\n",
    "plt.tight_layout()\n",
    "plt.show()"
   ]
  },
  {
   "cell_type": "code",
   "execution_count": 52,
   "metadata": {},
   "outputs": [
    {
     "data": {
      "text/plain": [
       "<Figure size 864x432 with 0 Axes>"
      ]
     },
     "metadata": {},
     "output_type": "display_data"
    },
    {
     "data": {
      "image/png": "[encoded data removed]",
      "text/plain": [
       "<Figure size 432x288 with 1 Axes>"
      ]
     },
     "metadata": {
      "needs_background": "light"
     },
     "output_type": "display_data"
    }
   ],
   "source": [
    "region_category_sales_pd = region_category_sales.toPandas()\n",
    "\n",
    "# Создание сводной таблицы для визуализации\n",
    "pivot_df = region_category_sales_pd.pivot(index='region', columns='category', values='total_revenue')\n",
    "pivot_df.fillna(0, inplace=True)\n",
    "\n",
    "plt.figure(figsize=(12, 6))\n",
    "pivot_df.plot(kind='bar', stacked=True)\n",
    "plt.title('Продажи по регионам и категориям')\n",
    "plt.xlabel('Регион')\n",
    "plt.ylabel('Общая выручка')\n",
    "plt.legend(title='Категория')\n",
    "plt.tight_layout()\n",
    "plt.show()"
   ]
  },
  {
   "cell_type": "markdown",
   "metadata": {},
   "source": [
    "### Пример 2: JOIN-операции в Spark SQL\n",
    "\n",
    "\n"
   ]
  },
  {
   "cell_type": "code",
   "execution_count": null,
   "metadata": {},
   "outputs": [],
   "source": [
    "\n",
    "# Создание файла с данными для JDBC\n",
    "customer_data = \"\"\"\n",
    "customer_id,customer_name,email,registration_date,status\n",
    "1,John Smith,john.smith@example.com,2022-01-15,active\n",
    "2,Alice Brown,alice.brown@example.com,2022-02-20,active\n",
    "3,Robert Johnson,robert.j@example.com,2022-03-10,inactive\n",
    "4,Emily Davis,emily.davis@example.com,2022-01-30,active\n",
    "5,Michael Wilson,michael.w@example.com,2022-04-05,active\n",
    "\"\"\"\n",
    "\n",
    "with open(\"customers.csv\", \"w\") as f:\n",
    "    f.write(customer_data)"
   ]
  },
  {
   "cell_type": "code",
   "execution_count": null,
   "metadata": {},
   "outputs": [],
   "source": [
    "!hadoop fs -put -f customers.csv /user/ubuntu/customers.csv"
   ]
  },
  {
   "cell_type": "code",
   "execution_count": null,
   "metadata": {},
   "outputs": [],
   "source": [
    "# Чтение данных в DataFrame\n",
    "customers_df = spark.read.csv(\"customers.csv\", header=True, inferSchema=True)\n",
    "customers_df.createOrReplaceTempView(\"customers\")\n"
   ]
  },
  {
   "cell_type": "code",
   "execution_count": null,
   "metadata": {},
   "outputs": [],
   "source": [
    "# Демонстрация запроса, объединяющего данные из нескольких источников\n",
    "complex_query = spark.sql(\"\"\"\n",
    "SELECT \n",
    "    c.customer_name,\n",
    "    c.status,\n",
    "    s.date,\n",
    "    p.product_name,\n",
    "    s.quantity,\n",
    "    s.revenue,\n",
    "    st.store_name,\n",
    "    st.region\n",
    "FROM sales s\n",
    "JOIN products p ON s.product_id = p.product_id\n",
    "JOIN stores st ON s.store_id = st.store_id\n",
    "JOIN customers c ON c.customer_id = s.store_id \n",
    "WHERE c.status = 'active'\n",
    "ORDER BY s.date, c.customer_name\n",
    "\"\"\")\n",
    "\n",
    "complex_query.show()"
   ]
  },
  {
   "cell_type": "code",
   "execution_count": null,
   "metadata": {},
   "outputs": [],
   "source": [
    "# Сохранение результатов запроса\n",
    "complex_query.write.mode(\"overwrite\").csv(\"query_results.csv\")\n",
    "complex_query.write.mode(\"overwrite\").json(\"query_results.json\")\n",
    "complex_query.write.mode(\"overwrite\").parquet(\"query_results.parquet\")"
   ]
  },
  {
   "cell_type": "code",
   "execution_count": null,
   "metadata": {},
   "outputs": [],
   "source": [
    "# Запись в другую SQL-таблицу\n",
    "complex_query.write.mode(\"overwrite\").saveAsTable(\"company.query_results\")"
   ]
  },
  {
   "cell_type": "code",
   "execution_count": null,
   "metadata": {},
   "outputs": [],
   "source": [
    "# Очистка после работы\n",
    "!rm employees.csv\n",
    "!rm departments.csv\n",
    "!rm sales.csv\n",
    "!rm stores.csv\n",
    "!rm products.csv\n",
    "!rm customers.csv"
   ]
  },
  {
   "cell_type": "code",
   "execution_count": 30,
   "metadata": {},
   "outputs": [
    {
     "name": "stdout",
     "output_type": "stream",
     "text": [
      "Spark SQL практика завершена!\n"
     ]
    }
   ],
   "source": [
    "# Остановка SparkSession\n",
    "spark.stop()\n",
    "\n",
    "print(\"Spark SQL практика завершена!\")"
   ]
  }
 ],
 "metadata": {
  "kernelspec": {
   "display_name": ".venv (3.11.12)",
   "language": "python",
   "name": "python3"
  },
  "language_info": {
   "codemirror_mode": {
    "name": "ipython",
    "version": 3
   },
   "file_extension": ".py",
   "mimetype": "text/x-python",
   "name": "python",
   "nbconvert_exporter": "python",
   "pygments_lexer": "ipython3",
   "version": "3.11.12"
  }
 },
 "nbformat": 4,
 "nbformat_minor": 2
}
